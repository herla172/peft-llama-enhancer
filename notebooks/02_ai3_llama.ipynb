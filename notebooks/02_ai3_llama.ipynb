{
 "cells": [
  {
   "cell_type": "code",
   "execution_count": 6,
   "metadata": {},
   "outputs": [],
   "source": [
    "import os\n",
    "os.environ['BITSANDBYTES_NOWELCOME'] = '1'\n",
    "\n",
    "import torch\n",
    "from transformers import LlamaTokenizer\n",
    "from p