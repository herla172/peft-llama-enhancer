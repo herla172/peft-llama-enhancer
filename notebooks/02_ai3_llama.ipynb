{
 "cells": [
  {
   "cell_type": "code",
   "execution_count": 6,
   "metadata": {},
   "outputs": [],
   "source": [
    "import o